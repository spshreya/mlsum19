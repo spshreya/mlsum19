{
  "nbformat": 4,
  "nbformat_minor": 0,
  "metadata": {
    "colab": {
      "name": "datavizcsv.ipynb",
      "version": "0.3.2",
      "provenance": [],
      "collapsed_sections": [],
      "include_colab_link": true
    },
    "kernelspec": {
      "name": "python3",
      "display_name": "Python 3"
    }
  },
  "cells": [
    {
      "cell_type": "markdown",
      "metadata": {
        "id": "view-in-github",
        "colab_type": "text"
      },
      "source": [
        "<a href=\"https://colab.research.google.com/github/spshreya/mlsum19/blob/master/datavizcsv.ipynb\" target=\"_parent\"><img src=\"https://colab.research.google.com/assets/colab-badge.svg\" alt=\"Open In Colab\"/></a>"
      ]
    },
    {
      "cell_type": "code",
      "metadata": {
        "id": "X-qv-C-XPMFN",
        "colab_type": "code",
        "colab": {}
      },
      "source": [
        "import matplotlib.pyplot as plt\n",
        "import numpy as np\n",
        "import csv\n",
        "import pandas as pd"
      ],
      "execution_count": 0,
      "outputs": []
    },
    {
      "cell_type": "code",
      "metadata": {
        "id": "iHFvGLUiP0_G",
        "colab_type": "code",
        "colab": {}
      },
      "source": [
        "arr=np.array([['student_name' , 'marks' , 'age' , 'contact' , 'study_hours'],\n",
        "             ['Shreya',100,21,987654321,2],\n",
        "             ['Meghana',90,20,876543219,3],\n",
        "             ['Anushka',80,19,765432198,4],\n",
        "             ['Niharika',70,23,654321987,3]])"
      ],
      "execution_count": 0,
      "outputs": []
    },
    {
      "cell_type": "code",
      "metadata": {
        "id": "kEu5sFbLRHPo",
        "colab_type": "code",
        "colab": {
          "base_uri": "https://localhost:8080/",
          "height": 102
        },
        "outputId": "adf7642a-50ad-43aa-a0e4-4155755af659"
      },
      "source": [
        "arr"
      ],
      "execution_count": 3,
      "outputs": [
        {
          "output_type": "execute_result",
          "data": {
            "text/plain": [
              "array([['student_name', 'marks', 'age', 'contact', 'study_hours'],\n",
              "       ['Shreya', '100', '21', '987654321', '2'],\n",
              "       ['Meghana', '90', '20', '876543219', '3'],\n",
              "       ['Anushka', '80', '19', '765432198', '4'],\n",
              "       ['Niharika', '70', '23', '654321987', '3']], dtype='<U12')"
            ]
          },
          "metadata": {
            "tags": []
          },
          "execution_count": 3
        }
      ]
    },
    {
      "cell_type": "code",
      "metadata": {
        "id": "5kOA-HM-RRHC",
        "colab_type": "code",
        "colab": {}
      },
      "source": [
        "#adding data into a csv file named student.csv\n",
        "with open('student.csv','w') as file:\n",
        "  wrt=csv.writer(file)\n",
        "  wrt.writerows(arr)\n",
        "  file.close()"
      ],
      "execution_count": 0,
      "outputs": []
    },
    {
      "cell_type": "code",
      "metadata": {
        "id": "uUAeVZMdUc14",
        "colab_type": "code",
        "colab": {
          "base_uri": "https://localhost:8080/",
          "height": 173
        },
        "outputId": "59d8bbcb-73b5-420a-a666-9990b2516026"
      },
      "source": [
        "df=pd.read_csv('student.csv')\n",
        "df"
      ],
      "execution_count": 5,
      "outputs": [
        {
          "output_type": "execute_result",
          "data": {
            "text/html": [
              "<div>\n",
              "<style scoped>\n",
              "    .dataframe tbody tr th:only-of-type {\n",
              "        vertical-align: middle;\n",
              "    }\n",
              "\n",
              "    .dataframe tbody tr th {\n",
              "        vertical-align: top;\n",
              "    }\n",
              "\n",
              "    .dataframe thead th {\n",
              "        text-align: right;\n",
              "    }\n",
              "</style>\n",
              "<table border=\"1\" class=\"dataframe\">\n",
              "  <thead>\n",
              "    <tr style=\"text-align: right;\">\n",
              "      <th></th>\n",
              "      <th>student_name</th>\n",
              "      <th>marks</th>\n",
              "      <th>age</th>\n",
              "      <th>contact</th>\n",
              "      <th>study_hours</th>\n",
              "    </tr>\n",
              "  </thead>\n",
              "  <tbody>\n",
              "    <tr>\n",
              "      <th>0</th>\n",
              "      <td>Shreya</td>\n",
              "      <td>100</td>\n",
              "      <td>21</td>\n",
              "      <td>987654321</td>\n",
              "      <td>2</td>\n",
              "    </tr>\n",
              "    <tr>\n",
              "      <th>1</th>\n",
              "      <td>Meghana</td>\n",
              "      <td>90</td>\n",
              "      <td>20</td>\n",
              "      <td>876543219</td>\n",
              "      <td>3</td>\n",
              "    </tr>\n",
              "    <tr>\n",
              "      <th>2</th>\n",
              "      <td>Anushka</td>\n",
              "      <td>80</td>\n",
              "      <td>19</td>\n",
              "      <td>765432198</td>\n",
              "      <td>4</td>\n",
              "    </tr>\n",
              "    <tr>\n",
              "      <th>3</th>\n",
              "      <td>Niharika</td>\n",
              "      <td>70</td>\n",
              "      <td>23</td>\n",
              "      <td>654321987</td>\n",
              "      <td>3</td>\n",
              "    </tr>\n",
              "  </tbody>\n",
              "</table>\n",
              "</div>"
            ],
            "text/plain": [
              "  student_name  marks  age    contact  study_hours\n",
              "0       Shreya    100   21  987654321            2\n",
              "1      Meghana     90   20  876543219            3\n",
              "2      Anushka     80   19  765432198            4\n",
              "3     Niharika     70   23  654321987            3"
            ]
          },
          "metadata": {
            "tags": []
          },
          "execution_count": 5
        }
      ]
    },
    {
      "cell_type": "code",
      "metadata": {
        "id": "Vzi7VsEHUj0x",
        "colab_type": "code",
        "colab": {
          "base_uri": "https://localhost:8080/",
          "height": 459
        },
        "outputId": "a6cd4cd2-09e8-4a8b-eb61-1be1496d0e74"
      },
      "source": [
        "#plotting a piechart\n",
        "student_name=df['student_name']\n",
        "marks=df['marks']\n",
        "age=df['age']\n",
        "contact=df['contact']\n",
        "study_hours=df['study_hours']\n",
        "exp= [0.1,0,0,0]\n",
        "plt.pie(marks,labels=student_name,explode=exp,autopct='%f%%')"
      ],
      "execution_count": 7,
      "outputs": [
        {
          "output_type": "execute_result",
          "data": {
            "text/plain": [
              "([<matplotlib.patches.Wedge at 0x7f90addd1470>,\n",
              "  <matplotlib.patches.Wedge at 0x7f90addd1b38>,\n",
              "  <matplotlib.patches.Wedge at 0x7f90adde4240>,\n",
              "  <matplotlib.patches.Wedge at 0x7f90adde4908>],\n",
              " [Text(0.7231615267367293, 0.9576207006157517, 'Shreya'),\n",
              "  Text(-0.9846796798987667, 0.4903120720464289, 'Meghana'),\n",
              "  Text(-0.4903120259502459, -0.9846797028519302, 'Anushka'),\n",
              "  Text(0.8778190686619244, -0.6628979428943129, 'Niharika')],\n",
              " [Text(0.4218442239297587, 0.5586120753591884, '29.411766%'),\n",
              "  Text(-0.537098007217509, 0.2674429483889612, '26.470590%'),\n",
              "  Text(-0.26744292324558866, -0.5370980197374164, '23.529412%'),\n",
              "  Text(0.47881040108832235, -0.36158069612417065, '20.588236%')])"
            ]
          },
          "metadata": {
            "tags": []
          },
          "execution_count": 7
        },
        {
          "output_type": "display_data",
          "data": {
            "image/png": "[encoded data removed]",
            "text/plain": [
              "<Figure size 432x288 with 1 Axes>"
            ]
          },
          "metadata": {
            "tags": []
          }
        }
      ]
    },
    {
      "cell_type": "code",
      "metadata": {
        "id": "bkexzXwNZC-c",
        "colab_type": "code",
        "colab": {}
      },
      "source": [
        ""
      ],
      "execution_count": 0,
      "outputs": []
    }
  ]
}